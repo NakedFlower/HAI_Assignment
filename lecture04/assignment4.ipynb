{
 "cells": [
  {
   "cell_type": "code",
   "execution_count": 1,
   "metadata": {},
   "outputs": [],
   "source": [
    "import numpy as np\n",
    "import pandas as pd\n",
    "import matplotlib.pyplot as plt\n",
    "from sklearn.datasets import load_iris"
   ]
  },
  {
   "cell_type": "code",
   "execution_count": 2,
   "metadata": {},
   "outputs": [],
   "source": [
    "# ----------------------\n",
    "# 데이터 준비\n",
    "# ----------------------\n",
    "iris = load_iris()\n",
    "x = iris.data[:130, [2, 3]]  # 꽃잎 길이, 너비\n",
    "y = iris.target[:130]"
   ]
  },
  {
   "cell_type": "code",
   "execution_count": 3,
   "metadata": {},
   "outputs": [],
   "source": [
    "# ----------------------\n",
    "# 유클리드 거리 함수\n",
    "# ----------------------\n",
    "def euclidean_distance(x1, x2):\n",
    "    return np.sqrt(np.sum((x1 - x2)**2))\n",
    "\n",
    "# ----------------------\n",
    "# KNN 예측 함수\n",
    "# ----------------------\n",
    "def knn_predict(x, X_train, y_train, k):\n",
    "    distances = [euclidean_distance(x, xi) for xi in X_train]\n",
    "    k_indices = np.argsort(distances)[:k]\n",
    "    k_labels = y_train[k_indices]\n",
    "    \n",
    "    # 다수결\n",
    "    labels, counts = np.unique(k_labels, return_counts=True)\n",
    "    return labels[np.argmax(counts)]\n",
    "\n",
    "# ----------------------\n",
    "# 정확도 평가 함수\n",
    "# ----------------------\n",
    "def compute_accuracy(X_val, y_val, X_train, y_train, k):\n",
    "    correct = 0\n",
    "    for x, y in zip(X_val, y_val):\n",
    "        pred = knn_predict(x, X_train, y_train, k)\n",
    "        if pred == y:\n",
    "            correct += 1\n",
    "    return correct / len(y_val)"
   ]
  },
  {
   "cell_type": "code",
   "execution_count": 4,
   "metadata": {},
   "outputs": [],
   "source": [
    "# ----------------------\n",
    "# 훈련/검증 데이터 분할\n",
    "# ----------------------\n",
    "np.random.seed(45)\n",
    "indices = np.random.permutation(len(x))\n",
    "split = int(0.7 * len(x))\n",
    "\n",
    "train_idx = indices[:split]\n",
    "val_idx = indices[split:]\n",
    "\n",
    "X_train, y_train = x[train_idx], y[train_idx]\n",
    "X_val, y_val = x[val_idx], y[val_idx]"
   ]
  },
  {
   "cell_type": "code",
   "execution_count": 5,
   "metadata": {},
   "outputs": [
    {
     "name": "stdout",
     "output_type": "stream",
     "text": [
      "k값별 정확도:\n",
      "k = 1 -> 정확도: 0.95\n",
      "k = 2 -> 정확도: 0.92\n",
      "k = 3 -> 정확도: 0.92\n",
      "k = 4 -> 정확도: 0.92\n",
      "k = 5 -> 정확도: 0.97\n",
      "k = 6 -> 정확도: 0.92\n",
      "k = 7 -> 정확도: 0.92\n",
      "k = 8 -> 정확도: 0.92\n",
      "k = 9 -> 정확도: 0.95\n",
      "k = 10 -> 정확도: 0.92\n"
     ]
    }
   ],
   "source": [
    "# ----------------------\n",
    "# k값 최적화\n",
    "# ----------------------\n",
    "k_candidates = range(1, 11)\n",
    "best_k = None\n",
    "best_acc = 0.0\n",
    "\n",
    "print(\"k값별 정확도:\")\n",
    "for k in k_candidates:\n",
    "    acc = compute_accuracy(X_val, y_val, X_train, y_train, k)\n",
    "    print(f\"k = {k} -> 정확도: {acc:.2f}\")\n",
    "    if acc > best_acc:\n",
    "        best_acc = acc\n",
    "        best_k = k"
   ]
  },
  {
   "cell_type": "code",
   "execution_count": 6,
   "metadata": {},
   "outputs": [
    {
     "name": "stdout",
     "output_type": "stream",
     "text": [
      "\n",
      "✅ 최적의 k값은: 5 (정확도: 0.97)\n"
     ]
    }
   ],
   "source": [
    "print(f\"\\n✅ 최적의 k값은: {best_k} (정확도: {best_acc:.2f})\")"
   ]
  },
  {
   "cell_type": "code",
   "execution_count": null,
   "metadata": {},
   "outputs": [
    {
     "name": "stdout",
     "output_type": "stream",
     "text": [
      "   Index  Actual  Predicted\n",
      "0    130       2          2\n",
      "1    131       2          2\n"
     ]
    }
   ],
   "source": [
    "# 131번째와 132번째 데이터 추출(petal length, petal width만 사용)\n",
    "x_test = iris.data[130:132, [2,3]]\n",
    "y_test = iris.target[130:132]\n",
    "\n",
    "#최적화된 k값을 바탕으로 예측\n",
    "predictions = [knn_predict(x, X_train, y_train, best_k) for x in x_test]\n",
    "\n",
    "#결과 출력\n",
    "result_df = pd.DataFrame({\n",
    "    \"Index\" : [130, 131],\n",
    "    \"Actual\" : y_test,\n",
    "    \"Predicted\" : predictions\n",
    "})\n",
    "\n",
    "\n",
    "print(result_df)"
   ]
  }
 ],
 "metadata": {
  "kernelspec": {
   "display_name": "myenv",
   "language": "python",
   "name": "python3"
  },
  "language_info": {
   "codemirror_mode": {
    "name": "ipython",
    "version": 3
   },
   "file_extension": ".py",
   "mimetype": "text/x-python",
   "name": "python",
   "nbconvert_exporter": "python",
   "pygments_lexer": "ipython3",
   "version": "3.10.16"
  }
 },
 "nbformat": 4,
 "nbformat_minor": 2
}
